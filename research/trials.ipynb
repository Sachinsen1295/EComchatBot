{
 "cells": [
  {
   "cell_type": "code",
   "execution_count": 30,
   "metadata": {},
   "outputs": [
    {
     "name": "stderr",
     "output_type": "stream",
     "text": [
      "huggingface/tokenizers: The current process just got forked, after parallelism has already been used. Disabling parallelism to avoid deadlocks...\n",
      "To disable this warning, you can either:\n",
      "\t- Avoid using `tokenizers` before the fork if possible\n",
      "\t- Explicitly set the environment variable TOKENIZERS_PARALLELISM=(true | false)\n"
     ]
    },
    {
     "name": "stdout",
     "output_type": "stream",
     "text": [
      "Requirement already satisfied: ipykernel in /Users/sachinsen/Documents/Generative Ai/Projects/EComchatBot/venv/lib/python3.10/site-packages (6.29.4)\n",
      "Requirement already satisfied: appnope in /Users/sachinsen/Documents/Generative Ai/Projects/EComchatBot/venv/lib/python3.10/site-packages (from ipykernel) (0.1.4)\n",
      "Requirement already satisfied: comm>=0.1.1 in /Users/sachinsen/Documents/Generative Ai/Projects/EComchatBot/venv/lib/python3.10/site-packages (from ipykernel) (0.2.2)\n",
      "Requirement already satisfied: debugpy>=1.6.5 in /Users/sachinsen/Documents/Generative Ai/Projects/EComchatBot/venv/lib/python3.10/site-packages (from ipykernel) (1.8.1)\n",
      "Requirement already satisfied: ipython>=7.23.1 in /Users/sachinsen/Documents/Generative Ai/Projects/EComchatBot/venv/lib/python3.10/site-packages (from ipykernel) (8.24.0)\n",
      "Requirement already satisfied: jupyter-client>=6.1.12 in /Users/sachinsen/Documents/Generative Ai/Projects/EComchatBot/venv/lib/python3.10/site-packages (from ipykernel) (8.6.1)\n",
      "Requirement already satisfied: jupyter-core!=5.0.*,>=4.12 in /Users/sachinsen/Documents/Generative Ai/Projects/EComchatBot/venv/lib/python3.10/site-packages (from ipykernel) (5.7.2)\n",
      "Requirement already satisfied: matplotlib-inline>=0.1 in /Users/sachinsen/Documents/Generative Ai/Projects/EComchatBot/venv/lib/python3.10/site-packages (from ipykernel) (0.1.7)\n",
      "Requirement already satisfied: nest-asyncio in /Users/sachinsen/Documents/Generative Ai/Projects/EComchatBot/venv/lib/python3.10/site-packages (from ipykernel) (1.6.0)\n",
      "Requirement already satisfied: packaging in /Users/sachinsen/Documents/Generative Ai/Projects/EComchatBot/venv/lib/python3.10/site-packages (from ipykernel) (23.2)\n",
      "Requirement already satisfied: psutil in /Users/sachinsen/Documents/Generative Ai/Projects/EComchatBot/venv/lib/python3.10/site-packages (from ipykernel) (5.9.8)\n",
      "Requirement already satisfied: pyzmq>=24 in /Users/sachinsen/Documents/Generative Ai/Projects/EComchatBot/venv/lib/python3.10/site-packages (from ipykernel) (26.0.3)\n",
      "Requirement already satisfied: tornado>=6.1 in /Users/sachinsen/Documents/Generative Ai/Projects/EComchatBot/venv/lib/python3.10/site-packages (from ipykernel) (6.4)\n",
      "Requirement already satisfied: traitlets>=5.4.0 in /Users/sachinsen/Documents/Generative Ai/Projects/EComchatBot/venv/lib/python3.10/site-packages (from ipykernel) (5.14.3)\n",
      "Requirement already satisfied: decorator in /Users/sachinsen/Documents/Generative Ai/Projects/EComchatBot/venv/lib/python3.10/site-packages (from ipython>=7.23.1->ipykernel) (5.1.1)\n",
      "Requirement already satisfied: jedi>=0.16 in /Users/sachinsen/Documents/Generative Ai/Projects/EComchatBot/venv/lib/python3.10/site-packages (from ipython>=7.23.1->ipykernel) (0.19.1)\n",
      "Requirement already satisfied: prompt-toolkit<3.1.0,>=3.0.41 in /Users/sachinsen/Documents/Generative Ai/Projects/EComchatBot/venv/lib/python3.10/site-packages (from ipython>=7.23.1->ipykernel) (3.0.43)\n",
      "Requirement already satisfied: pygments>=2.4.0 in /Users/sachinsen/Documents/Generative Ai/Projects/EComchatBot/venv/lib/python3.10/site-packages (from ipython>=7.23.1->ipykernel) (2.18.0)\n",
      "Requirement already satisfied: stack-data in /Users/sachinsen/Documents/Generative Ai/Projects/EComchatBot/venv/lib/python3.10/site-packages (from ipython>=7.23.1->ipykernel) (0.6.3)\n",
      "Requirement already satisfied: exceptiongroup in /Users/sachinsen/Documents/Generative Ai/Projects/EComchatBot/venv/lib/python3.10/site-packages (from ipython>=7.23.1->ipykernel) (1.2.1)\n",
      "Requirement already satisfied: typing-extensions>=4.6 in /Users/sachinsen/Documents/Generative Ai/Projects/EComchatBot/venv/lib/python3.10/site-packages (from ipython>=7.23.1->ipykernel) (4.11.0)\n",
      "Requirement already satisfied: pexpect>4.3 in /Users/sachinsen/Documents/Generative Ai/Projects/EComchatBot/venv/lib/python3.10/site-packages (from ipython>=7.23.1->ipykernel) (4.9.0)\n",
      "Requirement already satisfied: python-dateutil>=2.8.2 in /Users/sachinsen/Documents/Generative Ai/Projects/EComchatBot/venv/lib/python3.10/site-packages (from jupyter-client>=6.1.12->ipykernel) (2.9.0.post0)\n",
      "Requirement already satisfied: platformdirs>=2.5 in /Users/sachinsen/Documents/Generative Ai/Projects/EComchatBot/venv/lib/python3.10/site-packages (from jupyter-core!=5.0.*,>=4.12->ipykernel) (4.2.2)\n",
      "Requirement already satisfied: parso<0.9.0,>=0.8.3 in /Users/sachinsen/Documents/Generative Ai/Projects/EComchatBot/venv/lib/python3.10/site-packages (from jedi>=0.16->ipython>=7.23.1->ipykernel) (0.8.4)\n",
      "Requirement already satisfied: ptyprocess>=0.5 in /Users/sachinsen/Documents/Generative Ai/Projects/EComchatBot/venv/lib/python3.10/site-packages (from pexpect>4.3->ipython>=7.23.1->ipykernel) (0.7.0)\n",
      "Requirement already satisfied: wcwidth in /Users/sachinsen/Documents/Generative Ai/Projects/EComchatBot/venv/lib/python3.10/site-packages (from prompt-toolkit<3.1.0,>=3.0.41->ipython>=7.23.1->ipykernel) (0.2.13)\n",
      "Requirement already satisfied: six>=1.5 in /Users/sachinsen/Documents/Generative Ai/Projects/EComchatBot/venv/lib/python3.10/site-packages (from python-dateutil>=2.8.2->jupyter-client>=6.1.12->ipykernel) (1.16.0)\n",
      "Requirement already satisfied: executing>=1.2.0 in /Users/sachinsen/Documents/Generative Ai/Projects/EComchatBot/venv/lib/python3.10/site-packages (from stack-data->ipython>=7.23.1->ipykernel) (2.0.1)\n",
      "Requirement already satisfied: asttokens>=2.1.0 in /Users/sachinsen/Documents/Generative Ai/Projects/EComchatBot/venv/lib/python3.10/site-packages (from stack-data->ipython>=7.23.1->ipykernel) (2.4.1)\n",
      "Requirement already satisfied: pure-eval in /Users/sachinsen/Documents/Generative Ai/Projects/EComchatBot/venv/lib/python3.10/site-packages (from stack-data->ipython>=7.23.1->ipykernel) (0.2.2)\n"
     ]
    }
   ],
   "source": [
    "! pip install ipykernel"
   ]
  },
  {
   "cell_type": "code",
   "execution_count": 9,
   "metadata": {},
   "outputs": [],
   "source": [
    "import pandas as pd\n",
    "import os"
   ]
  },
  {
   "cell_type": "code",
   "execution_count": 10,
   "metadata": {},
   "outputs": [],
   "source": [
    "\n",
    "import pandas as pd\n",
    "from langchain_core.documents import Document\n",
    "\n",
    "\n",
    "def dataconveter():\n",
    "    product_data=pd.read_csv(\"/Users/sachinsen/Documents/Generative Ai/Projects/EComchatBot/data/flipkart_product_review.csv\")\n",
    "\n",
    "    data=product_data[[\"product_title\",\"review\"]]\n",
    "\n",
    "    product_list = []\n",
    "\n",
    "    # Iterate over the rows of the DataFrame\n",
    "    for index, row in data.iterrows():\n",
    "        # Construct an object with 'product_name' and 'review' attributes\n",
    "        obj = {\n",
    "                'product_name': row['product_title'],\n",
    "                'review': row['review']\n",
    "            }\n",
    "        # Append the object to the list\n",
    "        product_list.append(obj)\n",
    "\n",
    "        \n",
    "            \n",
    "    docs = []\n",
    "    for entry in product_list:\n",
    "        metadata = {\"product_name\": entry['product_name']}\n",
    "        doc = Document(page_content=entry['review'], metadata=metadata)\n",
    "        docs.append(doc)\n",
    "    return docs"
   ]
  },
  {
   "cell_type": "code",
   "execution_count": 11,
   "metadata": {},
   "outputs": [],
   "source": [
    "from langchain_astradb import AstraDBVectorStore\n",
    "#from langchain_openai import OpenAIEmbeddings\n",
    "from langchain.embeddings import HuggingFaceEmbeddings\n",
    "#from dotenv import load_dotenv\n",
    "import os\n",
    "import pandas as pd"
   ]
  },
  {
   "cell_type": "code",
   "execution_count": 12,
   "metadata": {},
   "outputs": [],
   "source": [
    "def download_hugging_face_embeddings():\n",
    "    embeddings = HuggingFaceEmbeddings(model_name=\"sentence-transformers/all-MiniLM-L6-v2\")\n",
    "    return embeddings\n",
    "\n",
    "\n",
    "embedding = download_hugging_face_embeddings()"
   ]
  },
  {
   "cell_type": "code",
   "execution_count": 13,
   "metadata": {},
   "outputs": [],
   "source": [
    "ASTRA_DB_API_ENDPOINT = \"https://f06a2175-95ec-423e-925f-c71d6830b378-us-east-2.apps.astra.datastax.com\"\n",
    "ASTRA_DB_APPLICATION_TOKEN = \"AstraCS:FoXdnikeOwRGxyhYTtWpPcIE:d98217b3d29e8599a0a50ff3e6ba213152ee4a6f44172f4fec82aaece66177a1\"\n",
    "ASTRA_DB_KEYSPACE = \"default_keyspace\""
   ]
  },
  {
   "cell_type": "code",
   "execution_count": 15,
   "metadata": {},
   "outputs": [],
   "source": [
    "vstore =  AstraDBVectorStore(\n",
    "                embedding=embedding,\n",
    "                collection_name=\"ecomchatbot\",\n",
    "                api_endpoint=ASTRA_DB_API_ENDPOINT,\n",
    "                token=ASTRA_DB_APPLICATION_TOKEN,\n",
    "                namespace=ASTRA_DB_KEYSPACE\n",
    "            )"
   ]
  },
  {
   "cell_type": "code",
   "execution_count": 23,
   "metadata": {},
   "outputs": [
    {
     "name": "stderr",
     "output_type": "stream",
     "text": [
      "/Users/sachinsen/Documents/Generative Ai/Projects/EComchatBot/venv/lib/python3.10/site-packages/huggingface_hub/file_download.py:1132: FutureWarning: `resume_download` is deprecated and will be removed in version 1.0.0. Downloads always resume when possible. If you want to force a new download, use `force_download=True`.\n",
      "  warnings.warn(\n"
     ]
    }
   ],
   "source": [
    "#from ecomchatbot.Stage01_dataconverter import dataconverter\n",
    "\n",
    "def download_hugging_face_embeddings():\n",
    "    embeddings = HuggingFaceEmbeddings(model_name=\"sentence-transformers/all-MiniLM-L6-v2\")\n",
    "    return embeddings\n",
    "\n",
    "\n",
    "embedding = download_hugging_face_embeddings()\n",
    "\n",
    "def data_ingestion(status):\n",
    "   vstore =  AstraDBVectorStore(\n",
    "                embedding=embedding,\n",
    "                collection_name=\"ecomchatbot\",\n",
    "                api_endpoint=ASTRA_DB_API_ENDPOINT,\n",
    "                token=ASTRA_DB_APPLICATION_TOKEN,\n",
    "                namespace=ASTRA_DB_KEYSPACE\n",
    "            )\n",
    "   \n",
    "   storage = status\n",
    "\n",
    "   if storage == None:\n",
    "       docs = dataconveter()\n",
    "       inserted_ids = vstore.add_documents(docs)\n",
    "       \n",
    "   else:\n",
    "        return vstore\n",
    "   \n",
    "   return vstore, inserted_ids"
   ]
  },
  {
   "cell_type": "code",
   "execution_count": 29,
   "metadata": {},
   "outputs": [],
   "source": [
    "from IPython.display import Markdown , display"
   ]
  },
  {
   "cell_type": "code",
   "execution_count": 30,
   "metadata": {},
   "outputs": [
    {
     "name": "stdout",
     "output_type": "stream",
     "text": [
      "\n",
      "Inserted 450 documents.\n",
      "* Lovely colour and premium looking and connectivity is awesome and impressive better than 3k-4k rs headphones    Trust without and double thought go for it [{'product_name': 'realme Buds Wireless Bluetooth Headset'}]\n",
      "* Lovely colour and premium looking and connectivity is awesome and impressive better than 3k-4k rs headphones    Trust without and double thought go for it [{'product_name': 'realme Buds Wireless Bluetooth Headset'}]\n",
      "* This is a wonderful product Unless you have received a faulty unit. Let me help you here Pros -Best in class buildBest in class features (quick pairing and switching, super quick charge)Best in class battery lifeMost comfortable earphone (i have tried nearly all good earphones under 3000 both wired and wireless. Comfort of these are superb)Cons -Sound is like a typical 1000rs earphone.Bass is there but not that much.But still i am rating it 5* why because my friend No OTHER wirele... [{'product_name': 'OnePlus Bullets Wireless Z Bluetooth Headset'}]\n",
      "* This is a wonderful product Unless you have received a faulty unit. Let me help you here Pros -Best in class buildBest in class features (quick pairing and switching, super quick charge)Best in class battery lifeMost comfortable earphone (i have tried nearly all good earphones under 3000 both wired and wireless. Comfort of these are superb)Cons -Sound is like a typical 1000rs earphone.Bass is there but not that much.But still i am rating it 5* why because my friend No OTHER wirele... [{'product_name': 'OnePlus Bullets Wireless Z Bluetooth Headset'}]\n"
     ]
    }
   ],
   "source": [
    "vstore,inserted_ids=data_ingestion(None)\n",
    "print(f\"\\nInserted {len(inserted_ids)} documents.\")\n",
    "results = vstore.similarity_search(\"what is name of headphone under 5000\")\n",
    "for res in results:\n",
    "    Markdown(print(f\"* {res.page_content} [{res.metadata}]\"))"
   ]
  },
  {
   "cell_type": "code",
   "execution_count": null,
   "metadata": {},
   "outputs": [],
   "source": []
  }
 ],
 "metadata": {
  "kernelspec": {
   "display_name": "Python 3",
   "language": "python",
   "name": "python3"
  },
  "language_info": {
   "codemirror_mode": {
    "name": "ipython",
    "version": 3
   },
   "file_extension": ".py",
   "mimetype": "text/x-python",
   "name": "python",
   "nbconvert_exporter": "python",
   "pygments_lexer": "ipython3",
   "version": "3.10.14"
  }
 },
 "nbformat": 4,
 "nbformat_minor": 2
}
